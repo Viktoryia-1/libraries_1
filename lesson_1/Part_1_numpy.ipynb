{
 "cells": [
  {
   "cell_type": "markdown",
   "id": "62b4cb36",
   "metadata": {},
   "source": [
    "### Task 1\n"
   ]
  },
  {
   "cell_type": "code",
   "execution_count": 1,
   "id": "81b6ed97",
   "metadata": {},
   "outputs": [],
   "source": [
    "import numpy as np\n",
    "\n"
   ]
  },
  {
   "cell_type": "code",
   "execution_count": 62,
   "id": "a2a5b7cd",
   "metadata": {},
   "outputs": [
    {
     "name": "stdout",
     "output_type": "stream",
     "text": [
      "[[ 1  6]\n",
      " [ 2  8]\n",
      " [ 3 11]\n",
      " [ 3 10]\n",
      " [ 1  7]]\n"
     ]
    }
   ],
   "source": [
    "a = np.array([[1, 6],[2, 8], [3, 11], [3, 10], [1, 7]])\n",
    "print(a)"
   ]
  },
  {
   "cell_type": "code",
   "execution_count": 63,
   "id": "cb397716",
   "metadata": {},
   "outputs": [
    {
     "name": "stdout",
     "output_type": "stream",
     "text": [
      "2.0\n",
      "8.4\n"
     ]
    }
   ],
   "source": [
    "sign_1 = a[:, 0].mean()\n",
    "sign_2 = a[:, 1].mean()\n",
    "print(sign_1)\n",
    "print(sign_2)"
   ]
  },
  {
   "cell_type": "code",
   "execution_count": 64,
   "id": "2ce3cb10",
   "metadata": {},
   "outputs": [
    {
     "name": "stdout",
     "output_type": "stream",
     "text": [
      "[2.  8.4]\n"
     ]
    }
   ],
   "source": [
    "mean_a = np.array([sign_1, sign_2])\n",
    "print(mean_a)"
   ]
  },
  {
   "cell_type": "markdown",
   "id": "0322a8bc",
   "metadata": {},
   "source": [
    "### Task 2"
   ]
  },
  {
   "cell_type": "code",
   "execution_count": 67,
   "id": "b60b5411",
   "metadata": {},
   "outputs": [
    {
     "name": "stdout",
     "output_type": "stream",
     "text": [
      "[[-1.  -2.4]\n",
      " [ 0.  -0.4]\n",
      " [ 1.   2.6]\n",
      " [ 1.   1.6]\n",
      " [-1.  -1.4]]\n"
     ]
    }
   ],
   "source": [
    "a_centred = a - mean_a\n",
    "print(a_centred)"
   ]
  },
  {
   "cell_type": "code",
   "execution_count": 55,
   "id": "16e6eba5",
   "metadata": {},
   "outputs": [],
   "source": []
  },
  {
   "cell_type": "markdown",
   "id": "d5975c47",
   "metadata": {},
   "source": [
    "### Task 3"
   ]
  },
  {
   "cell_type": "code",
   "execution_count": 69,
   "id": "cdb063c2",
   "metadata": {},
   "outputs": [
    {
     "name": "stdout",
     "output_type": "stream",
     "text": [
      "8.0\n",
      "2.0\n"
     ]
    }
   ],
   "source": [
    "a_centred_sp = a_centred[:, 0].dot(a_centred[:, 1])\n",
    "print(a_centred_sp)\n",
    "division = a_centred_sp / (len(a_centred[:, 1]) - 1)\n",
    "print(division)"
   ]
  },
  {
   "cell_type": "markdown",
   "id": "dbfddaf4",
   "metadata": {},
   "source": [
    "### Task 4"
   ]
  },
  {
   "cell_type": "code",
   "execution_count": 73,
   "id": "e0809952",
   "metadata": {},
   "outputs": [
    {
     "name": "stdout",
     "output_type": "stream",
     "text": [
      "[[1.  2. ]\n",
      " [2.  4.3]]\n",
      "The covariance value found correctly\n"
     ]
    }
   ],
   "source": [
    "z = np.cov(a.T)\n",
    "print(z)\n",
    "if float(z[0, 1]) == float(division):\n",
    "    print(\"The covariance value found correctly\")\n",
    "else:\n",
    "    print(\"The covariance value is not found correctly\")\n",
    "        \n",
    "    "
   ]
  },
  {
   "cell_type": "code",
   "execution_count": null,
   "id": "97690171",
   "metadata": {},
   "outputs": [],
   "source": []
  }
 ],
 "metadata": {
  "kernelspec": {
   "display_name": "Python 3 (ipykernel)",
   "language": "python",
   "name": "python3"
  },
  "language_info": {
   "codemirror_mode": {
    "name": "ipython",
    "version": 3
   },
   "file_extension": ".py",
   "mimetype": "text/x-python",
   "name": "python",
   "nbconvert_exporter": "python",
   "pygments_lexer": "ipython3",
   "version": "3.9.2"
  }
 },
 "nbformat": 4,
 "nbformat_minor": 5
}
