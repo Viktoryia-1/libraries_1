{
 "cells": [
  {
   "cell_type": "markdown",
   "id": "54dbe45b",
   "metadata": {},
   "source": [
    "### Task 1"
   ]
  },
  {
   "cell_type": "code",
   "execution_count": 2,
   "id": "d6648bfc",
   "metadata": {},
   "outputs": [],
   "source": [
    "import pandas as pd"
   ]
  },
  {
   "cell_type": "code",
   "execution_count": 3,
   "id": "6267e729",
   "metadata": {},
   "outputs": [
    {
     "data": {
      "text/html": [
       "<div>\n",
       "<style scoped>\n",
       "    .dataframe tbody tr th:only-of-type {\n",
       "        vertical-align: middle;\n",
       "    }\n",
       "\n",
       "    .dataframe tbody tr th {\n",
       "        vertical-align: top;\n",
       "    }\n",
       "\n",
       "    .dataframe thead th {\n",
       "        text-align: right;\n",
       "    }\n",
       "</style>\n",
       "<table border=\"1\" class=\"dataframe\">\n",
       "  <thead>\n",
       "    <tr style=\"text-align: right;\">\n",
       "      <th></th>\n",
       "      <th>autor_id</th>\n",
       "      <th>autor name</th>\n",
       "    </tr>\n",
       "  </thead>\n",
       "  <tbody>\n",
       "    <tr>\n",
       "      <th>0</th>\n",
       "      <td>1</td>\n",
       "      <td>Тургеньев</td>\n",
       "    </tr>\n",
       "    <tr>\n",
       "      <th>1</th>\n",
       "      <td>2</td>\n",
       "      <td>Чехов</td>\n",
       "    </tr>\n",
       "    <tr>\n",
       "      <th>2</th>\n",
       "      <td>3</td>\n",
       "      <td>Островский</td>\n",
       "    </tr>\n",
       "  </tbody>\n",
       "</table>\n",
       "</div>"
      ],
      "text/plain": [
       "   autor_id  autor name\n",
       "0         1   Тургеньев\n",
       "1         2       Чехов\n",
       "2         3  Островский"
      ]
     },
     "execution_count": 3,
     "metadata": {},
     "output_type": "execute_result"
    }
   ],
   "source": [
    "autors = pd.DataFrame({\"autor_id\" : [1, 2, 3],\n",
    "                       \"autor name\": [\"Тургеньев\", \"Чехов\", \"Островский\"]})\n",
    "autors"
   ]
  },
  {
   "cell_type": "code",
   "execution_count": 4,
   "id": "65d80ab3",
   "metadata": {},
   "outputs": [
    {
     "data": {
      "text/html": [
       "<div>\n",
       "<style scoped>\n",
       "    .dataframe tbody tr th:only-of-type {\n",
       "        vertical-align: middle;\n",
       "    }\n",
       "\n",
       "    .dataframe tbody tr th {\n",
       "        vertical-align: top;\n",
       "    }\n",
       "\n",
       "    .dataframe thead th {\n",
       "        text-align: right;\n",
       "    }\n",
       "</style>\n",
       "<table border=\"1\" class=\"dataframe\">\n",
       "  <thead>\n",
       "    <tr style=\"text-align: right;\">\n",
       "      <th></th>\n",
       "      <th>autor_id</th>\n",
       "      <th>book_title</th>\n",
       "      <th>prise</th>\n",
       "    </tr>\n",
       "  </thead>\n",
       "  <tbody>\n",
       "    <tr>\n",
       "      <th>0</th>\n",
       "      <td>1</td>\n",
       "      <td>Отцы и дети</td>\n",
       "      <td>450</td>\n",
       "    </tr>\n",
       "    <tr>\n",
       "      <th>1</th>\n",
       "      <td>1</td>\n",
       "      <td>Рудин</td>\n",
       "      <td>300</td>\n",
       "    </tr>\n",
       "    <tr>\n",
       "      <th>2</th>\n",
       "      <td>1</td>\n",
       "      <td>Дворянское гнездо</td>\n",
       "      <td>350</td>\n",
       "    </tr>\n",
       "    <tr>\n",
       "      <th>3</th>\n",
       "      <td>2</td>\n",
       "      <td>Толстый и тонкий</td>\n",
       "      <td>500</td>\n",
       "    </tr>\n",
       "    <tr>\n",
       "      <th>4</th>\n",
       "      <td>2</td>\n",
       "      <td>Дама с собачкой</td>\n",
       "      <td>450</td>\n",
       "    </tr>\n",
       "    <tr>\n",
       "      <th>5</th>\n",
       "      <td>3</td>\n",
       "      <td>Гроза</td>\n",
       "      <td>370</td>\n",
       "    </tr>\n",
       "    <tr>\n",
       "      <th>6</th>\n",
       "      <td>3</td>\n",
       "      <td>Таланты и поклонники</td>\n",
       "      <td>290</td>\n",
       "    </tr>\n",
       "  </tbody>\n",
       "</table>\n",
       "</div>"
      ],
      "text/plain": [
       "   autor_id            book_title  prise\n",
       "0         1           Отцы и дети    450\n",
       "1         1                 Рудин    300\n",
       "2         1     Дворянское гнездо    350\n",
       "3         2      Толстый и тонкий    500\n",
       "4         2       Дама с собачкой    450\n",
       "5         3                 Гроза    370\n",
       "6         3  Таланты и поклонники    290"
      ]
     },
     "execution_count": 4,
     "metadata": {},
     "output_type": "execute_result"
    }
   ],
   "source": [
    "books = pd.DataFrame({\"autor_id\" : [1, 1, 1, 2, 2, 3, 3],\n",
    "                      \"book_title\":['Отцы и дети', 'Рудин', 'Дворянское гнездо',\n",
    "                                    'Толстый и тонкий', 'Дама с собачкой', 'Гроза',\n",
    "                                    'Таланты и поклонники'],\n",
    "                     \"prise\" : [450, 300, 350, 500, 450, 370, 290]})\n",
    "books"
   ]
  },
  {
   "cell_type": "markdown",
   "id": "1772e212",
   "metadata": {},
   "source": [
    "### Task 2"
   ]
  },
  {
   "cell_type": "code",
   "execution_count": 5,
   "id": "ef0fe909",
   "metadata": {},
   "outputs": [
    {
     "data": {
      "text/html": [
       "<div>\n",
       "<style scoped>\n",
       "    .dataframe tbody tr th:only-of-type {\n",
       "        vertical-align: middle;\n",
       "    }\n",
       "\n",
       "    .dataframe tbody tr th {\n",
       "        vertical-align: top;\n",
       "    }\n",
       "\n",
       "    .dataframe thead th {\n",
       "        text-align: right;\n",
       "    }\n",
       "</style>\n",
       "<table border=\"1\" class=\"dataframe\">\n",
       "  <thead>\n",
       "    <tr style=\"text-align: right;\">\n",
       "      <th></th>\n",
       "      <th>autor_id</th>\n",
       "      <th>autor name</th>\n",
       "      <th>book_title</th>\n",
       "      <th>prise</th>\n",
       "    </tr>\n",
       "  </thead>\n",
       "  <tbody>\n",
       "    <tr>\n",
       "      <th>0</th>\n",
       "      <td>1</td>\n",
       "      <td>Тургеньев</td>\n",
       "      <td>Отцы и дети</td>\n",
       "      <td>450</td>\n",
       "    </tr>\n",
       "    <tr>\n",
       "      <th>1</th>\n",
       "      <td>1</td>\n",
       "      <td>Тургеньев</td>\n",
       "      <td>Рудин</td>\n",
       "      <td>300</td>\n",
       "    </tr>\n",
       "    <tr>\n",
       "      <th>2</th>\n",
       "      <td>1</td>\n",
       "      <td>Тургеньев</td>\n",
       "      <td>Дворянское гнездо</td>\n",
       "      <td>350</td>\n",
       "    </tr>\n",
       "    <tr>\n",
       "      <th>3</th>\n",
       "      <td>2</td>\n",
       "      <td>Чехов</td>\n",
       "      <td>Толстый и тонкий</td>\n",
       "      <td>500</td>\n",
       "    </tr>\n",
       "    <tr>\n",
       "      <th>4</th>\n",
       "      <td>2</td>\n",
       "      <td>Чехов</td>\n",
       "      <td>Дама с собачкой</td>\n",
       "      <td>450</td>\n",
       "    </tr>\n",
       "    <tr>\n",
       "      <th>5</th>\n",
       "      <td>3</td>\n",
       "      <td>Островский</td>\n",
       "      <td>Гроза</td>\n",
       "      <td>370</td>\n",
       "    </tr>\n",
       "    <tr>\n",
       "      <th>6</th>\n",
       "      <td>3</td>\n",
       "      <td>Островский</td>\n",
       "      <td>Таланты и поклонники</td>\n",
       "      <td>290</td>\n",
       "    </tr>\n",
       "  </tbody>\n",
       "</table>\n",
       "</div>"
      ],
      "text/plain": [
       "   autor_id  autor name            book_title  prise\n",
       "0         1   Тургеньев           Отцы и дети    450\n",
       "1         1   Тургеньев                 Рудин    300\n",
       "2         1   Тургеньев     Дворянское гнездо    350\n",
       "3         2       Чехов      Толстый и тонкий    500\n",
       "4         2       Чехов       Дама с собачкой    450\n",
       "5         3  Островский                 Гроза    370\n",
       "6         3  Островский  Таланты и поклонники    290"
      ]
     },
     "execution_count": 5,
     "metadata": {},
     "output_type": "execute_result"
    }
   ],
   "source": [
    "autors_prise = pd.merge(autors, books, on=\"autor_id\", how=\"inner\")\n",
    "autors_prise"
   ]
  },
  {
   "cell_type": "markdown",
   "id": "ac755bb3",
   "metadata": {},
   "source": [
    "### Task 3"
   ]
  },
  {
   "cell_type": "code",
   "execution_count": 7,
   "id": "9e840f12",
   "metadata": {},
   "outputs": [
    {
     "data": {
      "text/html": [
       "<div>\n",
       "<style scoped>\n",
       "    .dataframe tbody tr th:only-of-type {\n",
       "        vertical-align: middle;\n",
       "    }\n",
       "\n",
       "    .dataframe tbody tr th {\n",
       "        vertical-align: top;\n",
       "    }\n",
       "\n",
       "    .dataframe thead th {\n",
       "        text-align: right;\n",
       "    }\n",
       "</style>\n",
       "<table border=\"1\" class=\"dataframe\">\n",
       "  <thead>\n",
       "    <tr style=\"text-align: right;\">\n",
       "      <th></th>\n",
       "      <th>autor_id</th>\n",
       "      <th>autor name</th>\n",
       "      <th>book_title</th>\n",
       "      <th>prise</th>\n",
       "    </tr>\n",
       "  </thead>\n",
       "  <tbody>\n",
       "    <tr>\n",
       "      <th>3</th>\n",
       "      <td>2</td>\n",
       "      <td>Чехов</td>\n",
       "      <td>Толстый и тонкий</td>\n",
       "      <td>500</td>\n",
       "    </tr>\n",
       "    <tr>\n",
       "      <th>0</th>\n",
       "      <td>1</td>\n",
       "      <td>Тургеньев</td>\n",
       "      <td>Отцы и дети</td>\n",
       "      <td>450</td>\n",
       "    </tr>\n",
       "    <tr>\n",
       "      <th>4</th>\n",
       "      <td>2</td>\n",
       "      <td>Чехов</td>\n",
       "      <td>Дама с собачкой</td>\n",
       "      <td>450</td>\n",
       "    </tr>\n",
       "    <tr>\n",
       "      <th>5</th>\n",
       "      <td>3</td>\n",
       "      <td>Островский</td>\n",
       "      <td>Гроза</td>\n",
       "      <td>370</td>\n",
       "    </tr>\n",
       "    <tr>\n",
       "      <th>2</th>\n",
       "      <td>1</td>\n",
       "      <td>Тургеньев</td>\n",
       "      <td>Дворянское гнездо</td>\n",
       "      <td>350</td>\n",
       "    </tr>\n",
       "  </tbody>\n",
       "</table>\n",
       "</div>"
      ],
      "text/plain": [
       "   autor_id  autor name         book_title  prise\n",
       "3         2       Чехов   Толстый и тонкий    500\n",
       "0         1   Тургеньев        Отцы и дети    450\n",
       "4         2       Чехов    Дама с собачкой    450\n",
       "5         3  Островский              Гроза    370\n",
       "2         1   Тургеньев  Дворянское гнездо    350"
      ]
     },
     "execution_count": 7,
     "metadata": {},
     "output_type": "execute_result"
    }
   ],
   "source": [
    "top_5 = autors_prise.nlargest(5, \"prise\")\n",
    "top_5"
   ]
  },
  {
   "cell_type": "code",
   "execution_count": 9,
   "id": "aef59aa0",
   "metadata": {},
   "outputs": [
    {
     "data": {
      "text/plain": [
       "autor name\n",
       "Островский    370\n",
       "Тургеньев     450\n",
       "Чехов         500\n",
       "Name: prise, dtype: int64"
      ]
     },
     "execution_count": 9,
     "metadata": {},
     "output_type": "execute_result"
    }
   ],
   "source": [
    "autors_unic = autors_prise.groupby(\"autor name\")\n",
    "max_prise = autors_unic[\"prise\"].max()\n",
    "max_prise\n"
   ]
  },
  {
   "cell_type": "code",
   "execution_count": 10,
   "id": "a940960e",
   "metadata": {},
   "outputs": [
    {
     "data": {
      "text/plain": [
       "autor name\n",
       "Островский    290\n",
       "Тургеньев     300\n",
       "Чехов         450\n",
       "Name: prise, dtype: int64"
      ]
     },
     "execution_count": 10,
     "metadata": {},
     "output_type": "execute_result"
    }
   ],
   "source": [
    "min_prise = autors_unic[\"prise\"].min()\n",
    "min_prise"
   ]
  },
  {
   "cell_type": "code",
   "execution_count": 11,
   "id": "4b4d3469",
   "metadata": {},
   "outputs": [
    {
     "data": {
      "text/plain": [
       "autor name\n",
       "Островский    330.000000\n",
       "Тургеньев     366.666667\n",
       "Чехов         475.000000\n",
       "Name: prise, dtype: float64"
      ]
     },
     "execution_count": 11,
     "metadata": {},
     "output_type": "execute_result"
    }
   ],
   "source": [
    "mean_prise = autors_unic[\"prise\"].mean()\n",
    "mean_prise"
   ]
  },
  {
   "cell_type": "code",
   "execution_count": 12,
   "id": "c6f5bd49",
   "metadata": {},
   "outputs": [
    {
     "data": {
      "text/html": [
       "<div>\n",
       "<style scoped>\n",
       "    .dataframe tbody tr th:only-of-type {\n",
       "        vertical-align: middle;\n",
       "    }\n",
       "\n",
       "    .dataframe tbody tr th {\n",
       "        vertical-align: top;\n",
       "    }\n",
       "\n",
       "    .dataframe thead th {\n",
       "        text-align: right;\n",
       "    }\n",
       "</style>\n",
       "<table border=\"1\" class=\"dataframe\">\n",
       "  <thead>\n",
       "    <tr style=\"text-align: right;\">\n",
       "      <th></th>\n",
       "      <th>prise_x</th>\n",
       "      <th>prise_y</th>\n",
       "      <th>prise</th>\n",
       "    </tr>\n",
       "    <tr>\n",
       "      <th>autor name</th>\n",
       "      <th></th>\n",
       "      <th></th>\n",
       "      <th></th>\n",
       "    </tr>\n",
       "  </thead>\n",
       "  <tbody>\n",
       "    <tr>\n",
       "      <th>Островский</th>\n",
       "      <td>290</td>\n",
       "      <td>370</td>\n",
       "      <td>330.000000</td>\n",
       "    </tr>\n",
       "    <tr>\n",
       "      <th>Тургеньев</th>\n",
       "      <td>300</td>\n",
       "      <td>450</td>\n",
       "      <td>366.666667</td>\n",
       "    </tr>\n",
       "    <tr>\n",
       "      <th>Чехов</th>\n",
       "      <td>450</td>\n",
       "      <td>500</td>\n",
       "      <td>475.000000</td>\n",
       "    </tr>\n",
       "  </tbody>\n",
       "</table>\n",
       "</div>"
      ],
      "text/plain": [
       "            prise_x  prise_y       prise\n",
       "autor name                              \n",
       "Островский      290      370  330.000000\n",
       "Тургеньев       300      450  366.666667\n",
       "Чехов           450      500  475.000000"
      ]
     },
     "execution_count": 12,
     "metadata": {},
     "output_type": "execute_result"
    }
   ],
   "source": [
    "autors_stat = pd.merge(min_prise, max_prise, on=\"autor name\", how=\"inner\")\n",
    "autors_stat = pd.merge(autors_stat, mean_prise,on=\"autor name\", how=\"inner\")\n",
    "autors_stat"
   ]
  },
  {
   "cell_type": "code",
   "execution_count": 13,
   "id": "287c3f67",
   "metadata": {},
   "outputs": [
    {
     "data": {
      "text/html": [
       "<div>\n",
       "<style scoped>\n",
       "    .dataframe tbody tr th:only-of-type {\n",
       "        vertical-align: middle;\n",
       "    }\n",
       "\n",
       "    .dataframe tbody tr th {\n",
       "        vertical-align: top;\n",
       "    }\n",
       "\n",
       "    .dataframe thead th {\n",
       "        text-align: right;\n",
       "    }\n",
       "</style>\n",
       "<table border=\"1\" class=\"dataframe\">\n",
       "  <thead>\n",
       "    <tr style=\"text-align: right;\">\n",
       "      <th></th>\n",
       "      <th>min_prise</th>\n",
       "      <th>max_prise</th>\n",
       "      <th>mean_prise</th>\n",
       "    </tr>\n",
       "    <tr>\n",
       "      <th>autor name</th>\n",
       "      <th></th>\n",
       "      <th></th>\n",
       "      <th></th>\n",
       "    </tr>\n",
       "  </thead>\n",
       "  <tbody>\n",
       "    <tr>\n",
       "      <th>Островский</th>\n",
       "      <td>290</td>\n",
       "      <td>370</td>\n",
       "      <td>330.000000</td>\n",
       "    </tr>\n",
       "    <tr>\n",
       "      <th>Тургеньев</th>\n",
       "      <td>300</td>\n",
       "      <td>450</td>\n",
       "      <td>366.666667</td>\n",
       "    </tr>\n",
       "    <tr>\n",
       "      <th>Чехов</th>\n",
       "      <td>450</td>\n",
       "      <td>500</td>\n",
       "      <td>475.000000</td>\n",
       "    </tr>\n",
       "  </tbody>\n",
       "</table>\n",
       "</div>"
      ],
      "text/plain": [
       "            min_prise  max_prise  mean_prise\n",
       "autor name                                  \n",
       "Островский        290        370  330.000000\n",
       "Тургеньев         300        450  366.666667\n",
       "Чехов             450        500  475.000000"
      ]
     },
     "execution_count": 13,
     "metadata": {},
     "output_type": "execute_result"
    }
   ],
   "source": [
    "autors_stat = autors_stat.rename(columns={\"prise_x\" : \"min_prise\", \"prise_y\" : \"max_prise\", \"prise\" : \"mean_prise\"})\n",
    "autors_stat"
   ]
  },
  {
   "cell_type": "markdown",
   "id": "4b239a67",
   "metadata": {},
   "source": [
    "### Task 5"
   ]
  },
  {
   "cell_type": "code",
   "execution_count": 14,
   "id": "612618cb",
   "metadata": {},
   "outputs": [
    {
     "data": {
      "text/html": [
       "<div>\n",
       "<style scoped>\n",
       "    .dataframe tbody tr th:only-of-type {\n",
       "        vertical-align: middle;\n",
       "    }\n",
       "\n",
       "    .dataframe tbody tr th {\n",
       "        vertical-align: top;\n",
       "    }\n",
       "\n",
       "    .dataframe thead th {\n",
       "        text-align: right;\n",
       "    }\n",
       "</style>\n",
       "<table border=\"1\" class=\"dataframe\">\n",
       "  <thead>\n",
       "    <tr style=\"text-align: right;\">\n",
       "      <th></th>\n",
       "      <th>autor_id</th>\n",
       "      <th>autor name</th>\n",
       "      <th>book_title</th>\n",
       "      <th>prise</th>\n",
       "      <th>cover</th>\n",
       "    </tr>\n",
       "  </thead>\n",
       "  <tbody>\n",
       "    <tr>\n",
       "      <th>0</th>\n",
       "      <td>1</td>\n",
       "      <td>Тургеньев</td>\n",
       "      <td>Отцы и дети</td>\n",
       "      <td>450</td>\n",
       "      <td>твердая</td>\n",
       "    </tr>\n",
       "    <tr>\n",
       "      <th>1</th>\n",
       "      <td>1</td>\n",
       "      <td>Тургеньев</td>\n",
       "      <td>Рудин</td>\n",
       "      <td>300</td>\n",
       "      <td>мягкая</td>\n",
       "    </tr>\n",
       "    <tr>\n",
       "      <th>2</th>\n",
       "      <td>1</td>\n",
       "      <td>Тургеньев</td>\n",
       "      <td>Дворянское гнездо</td>\n",
       "      <td>350</td>\n",
       "      <td>мягкая</td>\n",
       "    </tr>\n",
       "    <tr>\n",
       "      <th>3</th>\n",
       "      <td>2</td>\n",
       "      <td>Чехов</td>\n",
       "      <td>Толстый и тонкий</td>\n",
       "      <td>500</td>\n",
       "      <td>твердая</td>\n",
       "    </tr>\n",
       "    <tr>\n",
       "      <th>4</th>\n",
       "      <td>2</td>\n",
       "      <td>Чехов</td>\n",
       "      <td>Дама с собачкой</td>\n",
       "      <td>450</td>\n",
       "      <td>твердая</td>\n",
       "    </tr>\n",
       "    <tr>\n",
       "      <th>5</th>\n",
       "      <td>3</td>\n",
       "      <td>Островский</td>\n",
       "      <td>Гроза</td>\n",
       "      <td>370</td>\n",
       "      <td>мягкая</td>\n",
       "    </tr>\n",
       "    <tr>\n",
       "      <th>6</th>\n",
       "      <td>3</td>\n",
       "      <td>Островский</td>\n",
       "      <td>Таланты и поклонники</td>\n",
       "      <td>290</td>\n",
       "      <td>мягкая</td>\n",
       "    </tr>\n",
       "  </tbody>\n",
       "</table>\n",
       "</div>"
      ],
      "text/plain": [
       "   autor_id  autor name            book_title  prise    cover\n",
       "0         1   Тургеньев           Отцы и дети    450  твердая\n",
       "1         1   Тургеньев                 Рудин    300   мягкая\n",
       "2         1   Тургеньев     Дворянское гнездо    350   мягкая\n",
       "3         2       Чехов      Толстый и тонкий    500  твердая\n",
       "4         2       Чехов       Дама с собачкой    450  твердая\n",
       "5         3  Островский                 Гроза    370   мягкая\n",
       "6         3  Островский  Таланты и поклонники    290   мягкая"
      ]
     },
     "execution_count": 14,
     "metadata": {},
     "output_type": "execute_result"
    }
   ],
   "source": [
    "autors_prise[\"cover\"] = ['твердая', 'мягкая', 'мягкая', 'твердая', 'твердая', 'мягкая', 'мягкая']\n",
    "autors_prise"
   ]
  },
  {
   "cell_type": "code",
   "execution_count": 24,
   "id": "fabf45c5",
   "metadata": {},
   "outputs": [
    {
     "data": {
      "text/html": [
       "<div>\n",
       "<style scoped>\n",
       "    .dataframe tbody tr th:only-of-type {\n",
       "        vertical-align: middle;\n",
       "    }\n",
       "\n",
       "    .dataframe tbody tr th {\n",
       "        vertical-align: top;\n",
       "    }\n",
       "\n",
       "    .dataframe thead tr th {\n",
       "        text-align: left;\n",
       "    }\n",
       "\n",
       "    .dataframe thead tr:last-of-type th {\n",
       "        text-align: right;\n",
       "    }\n",
       "</style>\n",
       "<table border=\"1\" class=\"dataframe\">\n",
       "  <thead>\n",
       "    <tr>\n",
       "      <th></th>\n",
       "      <th colspan=\"2\" halign=\"left\">prise</th>\n",
       "    </tr>\n",
       "    <tr>\n",
       "      <th>cover</th>\n",
       "      <th>мягкая</th>\n",
       "      <th>твердая</th>\n",
       "    </tr>\n",
       "    <tr>\n",
       "      <th>autor name</th>\n",
       "      <th></th>\n",
       "      <th></th>\n",
       "    </tr>\n",
       "  </thead>\n",
       "  <tbody>\n",
       "    <tr>\n",
       "      <th>Островский</th>\n",
       "      <td>660</td>\n",
       "      <td>0</td>\n",
       "    </tr>\n",
       "    <tr>\n",
       "      <th>Тургеньев</th>\n",
       "      <td>650</td>\n",
       "      <td>450</td>\n",
       "    </tr>\n",
       "    <tr>\n",
       "      <th>Чехов</th>\n",
       "      <td>0</td>\n",
       "      <td>950</td>\n",
       "    </tr>\n",
       "  </tbody>\n",
       "</table>\n",
       "</div>"
      ],
      "text/plain": [
       "            prise        \n",
       "cover      мягкая твердая\n",
       "autor name               \n",
       "Островский    660       0\n",
       "Тургеньев     650     450\n",
       "Чехов           0     950"
      ]
     },
     "execution_count": 24,
     "metadata": {},
     "output_type": "execute_result"
    }
   ],
   "source": [
    "import numpy as np\n",
    "book_info = autors_prise.drop(\"autor_id\", axis=1)\n",
    "book_info = pd.pivot_table(book_info, index=\"autor name\", columns=\"cover\", aggfunc=np.sum, fill_value=0)\n",
    "book_info\n"
   ]
  },
  {
   "cell_type": "code",
   "execution_count": 25,
   "id": "0122c4e7",
   "metadata": {},
   "outputs": [
    {
     "data": {
      "text/html": [
       "<div>\n",
       "<style scoped>\n",
       "    .dataframe tbody tr th:only-of-type {\n",
       "        vertical-align: middle;\n",
       "    }\n",
       "\n",
       "    .dataframe tbody tr th {\n",
       "        vertical-align: top;\n",
       "    }\n",
       "\n",
       "    .dataframe thead tr th {\n",
       "        text-align: left;\n",
       "    }\n",
       "\n",
       "    .dataframe thead tr:last-of-type th {\n",
       "        text-align: right;\n",
       "    }\n",
       "</style>\n",
       "<table border=\"1\" class=\"dataframe\">\n",
       "  <thead>\n",
       "    <tr>\n",
       "      <th></th>\n",
       "      <th colspan=\"2\" halign=\"left\">prise</th>\n",
       "    </tr>\n",
       "    <tr>\n",
       "      <th>cover</th>\n",
       "      <th>мягкая</th>\n",
       "      <th>твердая</th>\n",
       "    </tr>\n",
       "    <tr>\n",
       "      <th>autor name</th>\n",
       "      <th></th>\n",
       "      <th></th>\n",
       "    </tr>\n",
       "  </thead>\n",
       "  <tbody>\n",
       "    <tr>\n",
       "      <th>Островский</th>\n",
       "      <td>660</td>\n",
       "      <td>0</td>\n",
       "    </tr>\n",
       "    <tr>\n",
       "      <th>Тургеньев</th>\n",
       "      <td>650</td>\n",
       "      <td>450</td>\n",
       "    </tr>\n",
       "    <tr>\n",
       "      <th>Чехов</th>\n",
       "      <td>0</td>\n",
       "      <td>950</td>\n",
       "    </tr>\n",
       "  </tbody>\n",
       "</table>\n",
       "</div>"
      ],
      "text/plain": [
       "            prise        \n",
       "cover      мягкая твердая\n",
       "autor name               \n",
       "Островский    660       0\n",
       "Тургеньев     650     450\n",
       "Чехов           0     950"
      ]
     },
     "execution_count": 25,
     "metadata": {},
     "output_type": "execute_result"
    }
   ],
   "source": [
    "book_info.to_pickle(\"book_info.pkl\")\n",
    "book_info_2 = pd.read_pickle(\"book_info.pkl\")\n",
    "book_info_2"
   ]
  }
 ],
 "metadata": {
  "kernelspec": {
   "display_name": "Python 3 (ipykernel)",
   "language": "python",
   "name": "python3"
  },
  "language_info": {
   "codemirror_mode": {
    "name": "ipython",
    "version": 3
   },
   "file_extension": ".py",
   "mimetype": "text/x-python",
   "name": "python",
   "nbconvert_exporter": "python",
   "pygments_lexer": "ipython3",
   "version": "3.9.2"
  }
 },
 "nbformat": 4,
 "nbformat_minor": 5
}
